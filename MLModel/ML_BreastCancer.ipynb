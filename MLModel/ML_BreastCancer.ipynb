{
  "cells": [
    {
      "cell_type": "code",
      "execution_count": 1,
      "metadata": {
        "id": "FoVU2-cLLDMR"
      },
      "outputs": [],
      "source": [
        "# Import required libraries\n",
        "import pickle\n",
        "from sklearn.datasets import load_breast_cancer\n",
        "from sklearn.model_selection import train_test_split\n",
        "from sklearn.ensemble import RandomForestClassifier\n",
        "from sklearn.metrics import accuracy_score\n",
        "from sklearn.model_selection import GridSearchCV\n",
        "from sklearn.svm import SVC\n",
        "from sklearn.linear_model import LogisticRegression\n",
        "from sklearn.ensemble import VotingClassifier"
      ]
    },
    {
      "cell_type": "code",
      "execution_count": 2,
      "metadata": {
        "id": "XtpAlAe_LK0N"
      },
      "outputs": [],
      "source": [
        "# Load the dataset\n",
        "data = load_breast_cancer()\n",
        "X = data.data\n",
        "y = data.target"
      ]
    },
    {
      "cell_type": "code",
      "execution_count": 3,
      "metadata": {
        "id": "79K9RCJqLM_T"
      },
      "outputs": [],
      "source": [
        "# Split the data into training and testing sets\n",
        "X_train, X_test, y_train, y_test = train_test_split(X, y, test_size=0.2, random_state=42)"
      ]
    },
    {
      "cell_type": "code",
      "execution_count": 4,
      "metadata": {
        "colab": {
          "base_uri": "https://localhost:8080/"
        },
        "id": "tGul9tqKNPbJ",
        "outputId": "d1950c96-523d-4a14-ad3c-09c32b096c21"
      },
      "outputs": [
        {
          "name": "stdout",
          "output_type": "stream",
          "text": [
            "Voting Classifier Accuracy: 0.9649\n"
          ]
        }
      ],
      "source": [
        "# Combine models\n",
        "voting_clf = VotingClassifier(estimators=[\n",
        "    ('rf', RandomForestClassifier(n_estimators=100, random_state=42)),\n",
        "    ('svc', SVC(probability=True)),\n",
        "    ('logreg', LogisticRegression(max_iter=10000))\n",
        "], voting='soft')\n",
        "\n",
        "# Train and evaluate the voting classifier\n",
        "voting_clf.fit(X_train, y_train)\n",
        "y_pred = voting_clf.predict(X_test)\n",
        "voting_accuracy = accuracy_score(y_test, y_pred)\n",
        "print(f\"Voting Classifier Accuracy: {voting_accuracy:.4f}\")\n"
      ]
    },
    {
      "cell_type": "code",
      "execution_count": 5,
      "metadata": {
        "id": "o4PrpPWTLsNh"
      },
      "outputs": [],
      "source": [
        "# Save the model to a file\n",
        "with open('model.pkl', 'wb') as file:\n",
        "    pickle.dump(voting_clf, file)"
      ]
    },
    {
      "cell_type": "code",
      "execution_count": 7,
      "metadata": {
        "colab": {
          "base_uri": "https://localhost:8080/"
        },
        "id": "PneyQluYPNLj",
        "outputId": "13993d4d-9782-4fb3-c6d0-b11d5a8c27cb"
      },
      "outputs": [
        {
          "name": "stdout",
          "output_type": "stream",
          "text": [
            "Prediction: Non-Cancerous\n"
          ]
        }
      ],
      "source": [
        "# Example Usage of Model\n",
        "\n",
        "# Features Name for Model\n",
        "feature_names = [\n",
        "    \"Mean Radius\",\n",
        "    \"Mean Texture\",\n",
        "    \"Mean Perimeter\",\n",
        "    \"Mean Area\",\n",
        "    \"Mean Smoothness\",\n",
        "    \"Mean Compactness\",\n",
        "    \"Mean Concavity\",\n",
        "    \"Mean Concave Points\",\n",
        "    \"Mean Symmetry\",\n",
        "    \"Mean Fractal Dimension\",\n",
        "    \"Radius SE\",\n",
        "    \"Texture SE\",\n",
        "    \"Perimeter SE\",\n",
        "    \"Area SE\",\n",
        "    \"Smoothness SE\",\n",
        "    \"Compactness SE\",\n",
        "    \"Concavity SE\",\n",
        "    \"Concave Points SE\",\n",
        "    \"Symmetry SE\",\n",
        "    \"Fractal Dimension SE\",\n",
        "    \"Worst Radius\",\n",
        "    \"Worst Texture\",\n",
        "    \"Worst Perimeter\",\n",
        "    \"Worst Area\",\n",
        "    \"Worst Smoothness\",\n",
        "    \"Worst Compactness\",\n",
        "    \"Worst Concavity\",\n",
        "    \"Worst Concave Points\",\n",
        "    \"Worst Symmetry\",\n",
        "    \"Worst Fractal Dimension\"\n",
        "]\n",
        "\n",
        "# Example input data for prediction (matching feature structure of dataset)\n",
        "input_data = [[17.99, 10.38, 122.8, 1001.0, 0.1184, 0.2776, 0.3001, 0.1471, 0.2419, 0.07871,\n",
        "               1.095, 0.9053, 8.589, 153.4, 0.006399, 0.04904, 0.05373, 0.01587, 0.03003, 0.006193,\n",
        "               25.38, 17.33, 184.6, 2019.0, 0.1622, 0.6656, 0.7119, 0.2654, 0.4601, 0.1189]]\n",
        "# Load the trained model\n",
        "with open('model.pkl', 'rb') as file:\n",
        "    model = pickle.load(file)\n",
        "\n",
        "# Make predictions using the trained model\n",
        "prediction = model.predict(input_data)\n",
        "\n",
        "# Interpret the result\n",
        "if prediction[0] == 1:\n",
        "    print(\"Prediction: Cancerous\")\n",
        "else:\n",
        "    print(\"Prediction: Non-Cancerous\")"
      ]
    }
  ],
  "metadata": {
    "colab": {
      "provenance": []
    },
    "kernelspec": {
      "display_name": "Python 3",
      "name": "python3"
    },
    "language_info": {
      "name": "python"
    }
  },
  "nbformat": 4,
  "nbformat_minor": 0
}
